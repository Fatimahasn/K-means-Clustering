{
  "cells": [
    {
      "cell_type": "markdown",
      "metadata": {
        "id": "view-in-github",
        "colab_type": "text"
      },
      "source": [
        "<a href=\"https://colab.research.google.com/github/Fatimahasn/K-means-Clustering/blob/main/k_means_Clustering.ipynb\" target=\"_parent\"><img src=\"https://colab.research.google.com/assets/colab-badge.svg\" alt=\"Open In Colab\"/></a>"
      ]
    },
    {
      "cell_type": "code",
      "source": [
        "import numpy as np\n",
        "import pandas as pd\n",
        "from sklearn.metrics import davies_bouldin_score\n",
        "from sklearn.metrics.pairwise import euclidean_distances\n",
        "\n",
        "#functions \"inter_cluster_distances\" and \"dunn\" are for computing dunn index\n",
        "def inter_cluster_distances(labels, distances, method='nearest'):\n",
        "    farthest=False\n",
        "    n_unique_labels = len(np.unique(labels))\n",
        "    cluster_distances = np.full((n_unique_labels, n_unique_labels),float('inf') if not farthest else 0)\n",
        "    np.fill_diagonal(cluster_distances, 0)\n",
        "    for i in np.arange(0, len(labels) - 1):\n",
        "        for j in np.arange(i, len(labels)):\n",
        "            if labels[i] != labels[j] and (\n",
        "                (not farthest and distances[i, j] < cluster_distances[labels[i], labels[j]]) or\n",
        "                (farthest and distances[i, j] > cluster_distances[labels[i], labels[j]])):\n",
        "                cluster_distances[labels[i], labels[j]] = cluster_distances[labels[j], labels[i]] = distances[i,j]\n",
        "    return cluster_distances\n",
        "\n",
        "\n",
        "def dunn(labels, distances, diameter_method='farthest',cdist_method='nearest'):\n",
        "\n",
        "    ic_distances = inter_cluster_distances(labels, distances, cdist_method)\n",
        "    min_distance = min(ic_distances[ic_distances.nonzero()])\n",
        "\n",
        "    n_clusters = len(np.unique(labels))\n",
        "    diameters = np.zeros(n_clusters)\n",
        "    for i in range(0, len(labels) - 1):\n",
        "        for j in range(i + 1, len(labels)):\n",
        "            if labels[i] == labels[j] and distances[i, j] > diameters[labels[i]]:\n",
        "                diameters[labels[i]] = distances[i, j]\n",
        "    max_diameter = max(diameters)\n",
        "\n",
        "    return min_distance / max_diameter\n",
        "def Euclidean_Distance(num_1, num_2):\n",
        "    #Computes Euclidean Distance of two points\n",
        "    ED = sum((num_1 - num_2)**2)**0.5\n",
        "    return ED\n",
        "\n",
        "def minimum_index(Distance):\n",
        "    min_D=Distance.index(min(Distance))\n",
        "    return min_D\n",
        "\n",
        "def Kmeans(X,k):\n",
        "    d=euclidean_distances(X)\n",
        "    centroids = {}\n",
        "    \n",
        "    #Set first three indexes of a dataframe as centroids\n",
        "    for i in range(k):\n",
        "        centroids[i] = X[i]\n",
        "            \n",
        "    for iteration in range(15):\n",
        "        old_Centroid = centroids\n",
        "        clusters = {}  \n",
        "        for cluster_index in range(k):\n",
        "            clusters[cluster_index ] = []\n",
        "            fit=[]\n",
        "            \n",
        "        #Compute distance of each data point with centroids and find the minimum distance \n",
        "        for data in X:\n",
        "            Distance = []\n",
        "            for c_1 in centroids:\n",
        "                CD = Euclidean_Distance(data, centroids[c_1])\n",
        "                Distance.append(CD)\n",
        "\n",
        "            Label=minimum_index(Distance)\n",
        "                \n",
        "            #fit contains cluster numbers corresponding to inpt X\n",
        "            fit.append(Label)\n",
        "            clusters[Label].append(data)\n",
        "                \n",
        "        #For loop implemented below calculates the new clusters by computing mean of all the datapoints in a cluster      \n",
        "        for cluster_index in clusters:\n",
        "            cluster_vals = clusters[cluster_index]\n",
        "            New_Centroid = np.mean(cluster_vals, axis = 0)\n",
        "            centroids[cluster_index] = New_Centroid\n",
        "           \n",
        "        #if condition checks whether the new and old centroids are same or not\n",
        "        #If they are same, break the loop otherwise continue loop by using newcentroids\n",
        "        if np.all(old_Centroid == New_Centroid):\n",
        "                break\n",
        "        else:\n",
        "                old_Centroid == New_Centroid\n",
        "                    \n",
        "    print(\"centroids for k= \",k)\n",
        "    print(centroids)\n",
        "       \n",
        "    #code for printing values corresponding to each cluster\n",
        "    for cluster_index in clusters:\n",
        "        cluster_vals = clusters[cluster_index]\n",
        "        #print (\"cluster \",cluster_index)\n",
        "        #print(\"values for cluster: \",cluster_vals)\n",
        "           \n",
        "    DBI=davies_bouldin_score(X,fit)\n",
        "    print(\"DBI for k=\",k,\" :\",DBI)\n",
        "    DI = dunn(fit, d, diameter_method=\"farthest\", cdist_method=\"nearest\")\n",
        "    print(\"DI for k =\",k,\" :\",DI)\n",
        "       \n",
        "    print(\"*****************************************************************************************\")"
      ],
      "metadata": {
        "id": "eoMo1pthsjfG"
      },
      "execution_count": 15,
      "outputs": []
    },
    {
      "cell_type": "code",
      "source": [
        "# Function selects the dataset depending upon the user's input\n",
        "def dataset_selection(choice,status):\n",
        "    if(choice == 1):\n",
        "        data = 'http://archive.ics.uci.edu/ml/machine-learning-databases/iris/iris.data'\n",
        "        df = pd.read_csv(data, sep=',')\n",
        "        df.columns = [\"sepal_length\", \"sepal_width\", \"petal_length\", \"petal_width\", \"class\"]\n",
        "        Features = df.values[:, 0:4]\n",
        "        status=True\n",
        "    elif(choice == 2):\n",
        "        data='http://archive.ics.uci.edu/ml/machine-learning-databases/glass/glass.data'\n",
        "        df = pd.read_csv(data, sep=',')\n",
        "        attributes = [\"Id number\", \"RI\", \"Na\", \"Mg\", \"Al\",\"Si\",\"K\",\"Ca\",\"Ba\",\"Fe\",\"Type of glass\"]\n",
        "        df.columns = attributes\n",
        "        Features = df.values[:,0:10]\n",
        "        status=True\n",
        "    else:\n",
        "        print(\"Incorrect Value Entered\")\n",
        "\n",
        "    return Features, status"
      ],
      "metadata": {
        "id": "rvOVXZ0g0ZNo"
      },
      "execution_count": 16,
      "outputs": []
    },
    {
      "cell_type": "code",
      "source": [
        "def ComputeClusters(Features):\n",
        "    value=int(input(\"Enter the number of clusters. The number should be greater than 1. \"))\n",
        "    if (value > 1): \n",
        "      Kmeans(Features,k)\n",
        "    else:\n",
        "      print(\"Invalid input!\")"
      ],
      "metadata": {
        "id": "ceJxTVhr1dAN"
      },
      "execution_count": 17,
      "outputs": []
    },
    {
      "cell_type": "code",
      "source": [
        "if __name__ == \"__main__\":\n",
        "  print(\"Choose the dataset: \")\n",
        "  print(\"(1): Iris Dataset \")\n",
        "  print(\"(2): Glass dataset \")\n",
        "\n",
        "  # Variable to check whether the data is loaded or not.\n",
        "  temp=False\n",
        "  while(temp!=True):\n",
        "    ch=int(input(\"Press 1 or 2: \"))\n",
        "    Features,temp = dataset_selection(ch,temp)\n",
        "\n",
        "  # Compute clusters \n",
        "  while(True):\n",
        "    ComputeClusters(Features)\n",
        "    inp=input(\"Do you want to check values for more clusters. If yes press 'Y' else press any other key: \")\n",
        "    if(inp=='Y'):\n",
        "      continue\n",
        "    else:\n",
        "      break \n",
        "  \n",
        "  print(\"Code Execution Completed\")\n",
        "  print(\"**************************************************************************************************\")\n"
      ],
      "metadata": {
        "colab": {
          "base_uri": "https://localhost:8080/"
        },
        "id": "ceZW1PRYydnK",
        "outputId": "56fc3d3a-2096-4ab9-cb82-3010382e47e3"
      },
      "execution_count": 18,
      "outputs": [
        {
          "output_type": "stream",
          "name": "stdout",
          "text": [
            "Choose the dataset: \n",
            "(1): Iris Dataset \n",
            "(2): Glass dataset \n",
            "Press 1 or 2: 2\n",
            "Enter the number of clusters. The number should be greater than 1. 4\n",
            "centroids for k=  2\n",
            "{0: array([5.45000000e+01, 1.51833038e+00, 1.31748113e+01, 3.42169811e+00,\n",
            "       1.27933962e+00, 7.26416038e+01, 4.90094340e-01, 8.75783019e+00,\n",
            "       4.04716981e-02, 6.31132075e-02]), 1: array([1.61000000e+02, 1.51837542e+00, 1.36365421e+01, 1.93738318e+00,\n",
            "       1.61214953e+00, 7.26683178e+01, 5.08037383e-01, 9.15616822e+00,\n",
            "       3.10000000e-01, 5.14953271e-02])}\n",
            "DBI for k= 2  : 0.5032109030915135\n",
            "DI for k = 2  : 0.040775340590132395\n",
            "*****************************************************************************************\n",
            "Do you want to check values for more clusters. If yes press 'Y' else press any other key: Y\n",
            "Enter the number of clusters. The number should be greater than 1. 5\n",
            "centroids for k=  2\n",
            "{0: array([5.45000000e+01, 1.51833038e+00, 1.31748113e+01, 3.42169811e+00,\n",
            "       1.27933962e+00, 7.26416038e+01, 4.90094340e-01, 8.75783019e+00,\n",
            "       4.04716981e-02, 6.31132075e-02]), 1: array([1.61000000e+02, 1.51837542e+00, 1.36365421e+01, 1.93738318e+00,\n",
            "       1.61214953e+00, 7.26683178e+01, 5.08037383e-01, 9.15616822e+00,\n",
            "       3.10000000e-01, 5.14953271e-02])}\n",
            "DBI for k= 2  : 0.5032109030915135\n",
            "DI for k = 2  : 0.040775340590132395\n",
            "*****************************************************************************************\n",
            "Do you want to check values for more clusters. If yes press 'Y' else press any other key: N\n",
            "Code Execution Completed\n",
            "**************************************************************************************************\n"
          ]
        }
      ]
    },
    {
      "cell_type": "code",
      "source": [],
      "metadata": {
        "id": "OgxVw5dQskWH"
      },
      "execution_count": null,
      "outputs": []
    }
  ],
  "metadata": {
    "kernelspec": {
      "display_name": "Python 3",
      "language": "python",
      "name": "python3"
    },
    "language_info": {
      "codemirror_mode": {
        "name": "ipython",
        "version": 3
      },
      "file_extension": ".py",
      "mimetype": "text/x-python",
      "name": "python",
      "nbconvert_exporter": "python",
      "pygments_lexer": "ipython3",
      "version": "3.7.3"
    },
    "colab": {
      "provenance": [],
      "include_colab_link": true
    }
  },
  "nbformat": 4,
  "nbformat_minor": 0
}